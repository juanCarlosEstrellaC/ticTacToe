{
  "cells": [
    {
      "cell_type": "markdown",
      "metadata": {
        "id": "view-in-github",
        "colab_type": "text"
      },
      "source": [
        "<a href=\"https://colab.research.google.com/github/juanCarlosEstrellaC/ticTacToe/blob/main/ticTacToe.ipynb\" target=\"_parent\"><img src=\"https://colab.research.google.com/assets/colab-badge.svg\" alt=\"Open In Colab\"/></a>"
      ]
    },
    {
      "cell_type": "code",
      "execution_count": 42,
      "metadata": {
        "id": "0PgCjx4XOT4w"
      },
      "outputs": [],
      "source": [
        "import numpy as np\n",
        "\n",
        "# Estado inicial= tablero vacío (np.nan, ... np.nan) + ficha de salida del jugador.\n",
        "class Nodo():\n",
        "  def __init__(self, jugador):\n",
        "    # Estado inicial = tablero vacío:\n",
        "    self.estado = (np.nan, np.nan, np.nan,\n",
        "                   np.nan, np.nan, np.nan,\n",
        "                   np.nan, np.nan, np.nan)  #np.nan = null\n",
        "    self.jugador = jugador\n",
        "\n",
        "  # Dado un estado, verifica si es estado final\n",
        "  # jugador =  X (máquina) o O (humano)\n",
        "  def es_estado_final(self, estado, jugador):\n",
        "    completo = True\n",
        "\n",
        "    # Tablero completo\n",
        "    for i in estado:\n",
        "      if np.isnan(i):\n",
        "        completo = False\n",
        "        break\n",
        "    \n",
        "    # Si es una línea ganadora:\n",
        "    if not completo:\n",
        "      # Lineas Verticales:\n",
        "      for i in range(3):   #pilas, que range(2) = [0,1], por eso el range(3)\n",
        "        if estado[i] == jugador and estado[i+3] == jugador and estado[i+6] == jugador:\n",
        "          completo = True\n",
        "          break\n",
        "\n",
        "      # Lineas Horizontales:\n",
        "      for i in [0,3,6]:\n",
        "        if estado[i] == jugador and estado[i+1] == jugador and estado[i+2] == jugador:\n",
        "          completo = True\n",
        "          break\n",
        "\n",
        "      # Lineas Diagonales:\n",
        "      if estado[0] == jugador and estado[4] == jugador and estado[8] == jugador:\n",
        "        completo = True\n",
        "      if estado[2] == jugador and estado[4] == jugador and estado[6] == jugador:\n",
        "        completo = True \n",
        "      \n",
        "      print(\"¿Es un estado final? \"+ str(completo))\n",
        "      return completo\n",
        "\n",
        "    print(\"¿Es un estado final? \"+ str(completo))\n",
        "    return completo\n",
        "        \n",
        "      "
      ]
    },
    {
      "cell_type": "code",
      "execution_count": 43,
      "metadata": {
        "colab": {
          "base_uri": "https://localhost:8080/"
        },
        "id": "lOMq8vTVWapC",
        "outputId": "76a07faa-4134-44f0-9157-75131ee200e0"
      },
      "outputs": [
        {
          "output_type": "stream",
          "name": "stdout",
          "text": [
            "¿Es un estado final? True\n"
          ]
        },
        {
          "output_type": "execute_result",
          "data": {
            "text/plain": [
              "True"
            ]
          },
          "metadata": {},
          "execution_count": 43
        }
      ],
      "source": [
        "j = Nodo(1) #jugador = X=1 o O=0 \n",
        "estado = (np.nan, np.nan, np.nan,\n",
        "          np.nan, np.nan, np.nan,\n",
        "          np.nan, np.nan, np.nan)\n",
        "estado2 = range(9)\n",
        "estado3 = (1,1,1,  \n",
        "          np.nan, np.nan, np.nan,\n",
        "          np.nan, np.nan, np.nan)\n",
        "\n",
        "j.es_estado_final(estado3, 1)"
      ]
    }
  ],
  "metadata": {
    "colab": {
      "provenance": [],
      "authorship_tag": "ABX9TyPOxefb+8b+d4rm0/iNPVyr",
      "include_colab_link": true
    },
    "kernelspec": {
      "display_name": "Python 3",
      "name": "python3"
    },
    "language_info": {
      "name": "python"
    }
  },
  "nbformat": 4,
  "nbformat_minor": 0
}