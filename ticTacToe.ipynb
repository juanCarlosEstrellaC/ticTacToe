{
  "cells": [
    {
      "cell_type": "markdown",
      "metadata": {
        "id": "view-in-github",
        "colab_type": "text"
      },
      "source": [
        "<a href=\"https://colab.research.google.com/github/juanCarlosEstrellaC/ticTacToe/blob/Metodos-Generales-3-en-raya/ticTacToe.ipynb\" target=\"_parent\"><img src=\"https://colab.research.google.com/assets/colab-badge.svg\" alt=\"Open In Colab\"/></a>"
      ]
    },
    {
      "cell_type": "code",
      "execution_count": 3,
      "metadata": {
        "id": "0PgCjx4XOT4w"
      },
      "outputs": [],
      "source": [
        "import numpy as np\n",
        "\n",
        "# Estado inicial= tablero vacío (np.nan, ... np.nan) + ficha de salida del jugador.\n",
        "class TresEnRaya():\n",
        "  def __init__(self):\n",
        "    # Estado inicial = tablero vacío:\n",
        "    self.estado = (np.nan, np.nan, np.nan,\n",
        "                   np.nan, np.nan, np.nan,\n",
        "                   np.nan, np.nan, np.nan)  #np.nan = null\n",
        "\n",
        "\n",
        "  # Dado un estado, devuelve el los índices sin ocupar, ie, función movimientos disponibles.\n",
        "  def f_sucesor(self, estado):\n",
        "    sucesores = []\n",
        "    for i in range(9):\n",
        "      if np.isnan(estado[i]):\n",
        "        sucesores.append(i)\n",
        "\n",
        "    return sucesores\n",
        "\n",
        "\n",
        "  def aplicar_movimiento(self, estado_inicial, movimiento, jugador):\n",
        "    estado = list(estado_inicial)\n",
        "    estado[movimiento] = jugador\n",
        "    return tuple(estado)\n",
        "\n",
        "\n",
        "  def es_estado_final(self, estado, jugador):       # Dado un estado, verifica si es estado final, y retorna:\n",
        "    # Si es estado terminal -> devuelve jugador ganador (1 o -1) o 0 si empataron\n",
        "    # Si NO es estado terminal -> devuelve nan\n",
        "\n",
        "    # Verificamos si hay un ganador, de haberlo me lo devuelve:\n",
        "    # Lineas Verticales:\n",
        "    for i in range(3):   #pilas, que range(2) = [0,1], por eso el range(3)\n",
        "      if estado[i] == jugador and estado[i+3] == jugador and estado[i+6] == jugador:\n",
        "        return jugador\n",
        "\n",
        "    # Lineas Horizontales:\n",
        "    for i in [0,3,6]:    # Para mi es así \"for i in [0,3,6]:\"\n",
        "      if estado[i] == jugador and estado[i+1] == jugador and estado[i+2] == jugador:\n",
        "        return jugador\n",
        "\n",
        "    # Lineas Diagonales:\n",
        "    if estado[0] == jugador and estado[4] == jugador and estado[8] == jugador:\n",
        "      return jugador\n",
        "    if estado[2] == jugador and estado[4] == jugador and estado[6] == jugador:\n",
        "      return jugador\n",
        "\n",
        "    # Si no hay un ganador aún:\n",
        "    completo = True\n",
        "    # Verificamos si Tablero está completo. De ser cierto, se produjo un empate.\n",
        "    for i in estado:\n",
        "      if np.isnan(i):\n",
        "        completo = False\n",
        "        break\n",
        "    \n",
        "    if completo: # Este caso sería el empate.\n",
        "      return 0\n",
        "\n",
        "    # Ya que NO es estado terminal -> devuelve nan\n",
        "    return np.nan \n",
        "\n",
        "          "
      ]
    },
    {
      "cell_type": "code",
      "execution_count": 2,
      "metadata": {
        "colab": {
          "base_uri": "https://localhost:8080/"
        },
        "id": "lOMq8vTVWapC",
        "outputId": "c714ffb2-ad0f-49c8-f88b-b39fadf331f6"
      },
      "outputs": [
        {
          "output_type": "stream",
          "name": "stdout",
          "text": [
            "1\n",
            "[3, 5, 6, 8]\n",
            "(1, 1, 1, nan, -1, nan, nan, -1, -1)\n"
          ]
        }
      ],
      "source": [
        "# jugador:  1 = X (máquina) y  -1 = O (humano)\n",
        "# diferentes estados para probar:\n",
        "estado1 = (np.nan, np.nan, np.nan,\n",
        "           np.nan, np.nan, np.nan,\n",
        "           np.nan, np.nan, np.nan)\n",
        "\n",
        "estado2 = range(9)\n",
        "\n",
        "estado3 = (1,      1,      1,  \n",
        "          np.nan, -1, np.nan,\n",
        "          np.nan, -1, np.nan)\n",
        "\n",
        "estado4 = (1,1,1,1,1,1,1,1,1)\n",
        "\n",
        "estado5 = (1,      -1,  np.nan,  \n",
        "           1,       1,     1,\n",
        "           np.nan, -1, np.nan)\n",
        "\n",
        "# Probando métodos\n",
        "j = TresEnRaya()   \n",
        "ganador = j.es_estado_final(estado3, 1)\n",
        "print(ganador)\n",
        "\n",
        "sucesor = j.f_sucesor(estado3) \n",
        "print(sucesor)\n",
        "\n",
        "nuevo_estado = j.aplicar_movimiento(estado3, sucesor.pop(), -1)\n",
        "print(nuevo_estado)\n"
      ]
    },
    {
      "cell_type": "code",
      "source": [
        "\"\"\"def f_sucesorMio(self, estado):\n",
        "    sucesores = [] \n",
        "    print(estado)\n",
        "    for i in estado:\n",
        "      if np.isnan(i):\n",
        "        print(\"Es nulo \"+str(i))\n",
        "        sucesores.append(estado.index(i))\n",
        "        print(estado.index(i))\n",
        "    return sucesores\n",
        "\n",
        "  def f_sucesor2(self, estado):\n",
        "    sucesores = [] \n",
        "    for i,e in enumerate(estado):\n",
        "      print(i)\n",
        "      if np.isnan(i):\n",
        "        sucesores.append(e)\n",
        "        print(estado.index(i))\n",
        "    return sucesores\n",
        "  \"\"\"\n",
        "\n",
        "  \"\"\"def aplicar_movimientoMio(self, estado, movimiento, jugador):\n",
        "    suc = list(self.f_sucesor(estado))\n",
        "    estado_list = list(estado)\n",
        "    if movimiento in suc:\n",
        "      estado_list[movimiento] = jugador\n",
        "      return estado_list\n",
        "    else:\n",
        "      print(\"Movimiento inválido\")\n",
        "  \"\"\""
      ],
      "metadata": {
        "id": "4VDcKrklwKgu"
      },
      "execution_count": null,
      "outputs": []
    }
  ],
  "metadata": {
    "colab": {
      "provenance": [],
      "authorship_tag": "ABX9TyPCiuf03D6aKhHZzjnfdb52",
      "include_colab_link": true
    },
    "kernelspec": {
      "display_name": "Python 3",
      "name": "python3"
    },
    "language_info": {
      "name": "python"
    }
  },
  "nbformat": 4,
  "nbformat_minor": 0
}